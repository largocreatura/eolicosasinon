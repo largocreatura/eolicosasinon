{
  "nbformat": 4,
  "nbformat_minor": 0,
  "metadata": {
    "colab": {
      "name": "eolicos_xls2kmz.ipynb",
      "provenance": [],
      "collapsed_sections": []
    },
    "kernelspec": {
      "name": "python3",
      "display_name": "Python 3"
    },
    "language_info": {
      "name": "python"
    }
  },
  "cells": [
    {
      "cell_type": "code",
      "metadata": {
        "id": "H4Vi7NysThX7"
      },
      "source": [
        "## Eolicos xls2kmz\n",
        "## Versión para executar na plataforma Colab: colab.research.google.com\n",
        "\n",
        "## Script que procesa coordenadas en formato UTM e produce un ficheiro\n",
        "## KMZ preparado para traballar con GoogleMaps e Google Earth\n",
        "\n",
        "## INPUT: folla de cálculo .xls ou .xlsx\n",
        "## \n",
        "\n",
        "## A folla de cálculo ten diferentes follas para diferentes elementos:\n",
        "## aeroxeradores, poligonais, LAATs etc.\n",
        "## campos: id/nome ; coord X ; coord Y   (coordenadas UTM)\n",
        "\n",
        "## OUTPUT: ficheiro KMZ"
      ],
      "execution_count": null,
      "outputs": []
    },
    {
      "cell_type": "code",
      "metadata": {
        "id": "TustXWfLSBJP"
      },
      "source": [
        "# CONFIGURACIÓN\n",
        "\n",
        "# Os ficheiros de entrada deben estar nunha carpeta do Drive\n",
        "carpeta = 'gdrive/MyDrive/Datos_proxectos_enerxeticos/input/'\n",
        "\n",
        "# Nome do ficheiro:\n",
        "nome_ficheiro = 'nome_ficheiro.xlsx'\n",
        "\n",
        "# Indica o CRS, o sistema de coordenadas\n",
        "crs_orixe = 'EPSG:25829' #Huso 29\n",
        "#crs_orixe = 'EPSG:25829' #Huso 30\n",
        "crs_destino = 'epsg:4326'"
      ],
      "execution_count": null,
      "outputs": []
    },
    {
      "cell_type": "code",
      "metadata": {
        "colab": {
          "base_uri": "https://localhost:8080/"
        },
        "id": "s9pWIWSPTS_E",
        "outputId": "764b11ea-568d-4758-fcd9-a5f27e63900d"
      },
      "source": [
        "# Montar drive para acceder ás follas de cálculo\n",
        "from google.colab import drive\n",
        "drive.mount('/content/gdrive')"
      ],
      "execution_count": null,
      "outputs": [
        {
          "output_type": "stream",
          "name": "stdout",
          "text": [
            "Drive already mounted at /content/gdrive; to attempt to forcibly remount, call drive.mount(\"/content/gdrive\", force_remount=True).\n"
          ]
        }
      ]
    },
    {
      "cell_type": "markdown",
      "metadata": {
        "id": "wXxbhy2eVnky"
      },
      "source": [
        ""
      ]
    },
    {
      "cell_type": "code",
      "metadata": {
        "id": "8VJAzVRJVn_e"
      },
      "source": [
        "# Instala e importa as librarías extra necesarias\n",
        "import pandas as pd\n",
        "import numpy as np\n",
        "!pip install pyproj\n",
        "from pyproj import CRS, Transformer\n",
        "!pip install simplekml\n",
        "import simplekml"
      ],
      "execution_count": null,
      "outputs": []
    },
    {
      "cell_type": "code",
      "metadata": {
        "id": "JVKh5wA0WHO1"
      },
      "source": [
        "# Lectura do contido do ficheiro, que garda nun único DataFrame\n",
        "ficheiro = carpeta+nome_ficheiro\n",
        "df = pd.read_excel(ficheiro)"
      ],
      "execution_count": null,
      "outputs": []
    },
    {
      "cell_type": "code",
      "metadata": {
        "id": "g2PY5RkHXF08"
      },
      "source": [
        "# Lectura das diferentes follas de datos\n",
        "# Crea un novo DataFrame para cada folla\n",
        "df_aeroxeradores = pd.read_excel(ficheiro, sheet_name='Aeroxeradores')\n",
        "df_poligonal = pd.read_excel(ficheiro, sheet_name='Poligonal')\n",
        "df_LAAT = pd.read_excel(ficheiro, sheet_name='LAAT')\n",
        "df_LAAT2 = pd.read_excel(ficheiro, sheet_name='LAAT_2')\n",
        "df_meteotorres = pd.read_excel(ficheiro, sheet_name='TorresMeteo')\n",
        "df_subestacion = pd.read_excel(ficheiro, sheet_name='PoligonalSubestacion')\n",
        "df_seccionamento = pd.read_excel(ficheiro, sheet_name='CentroSeccionamento')\n",
        "df_outros = pd.read_excel(ficheiro, sheet_name='OutrosMarcadores')"
      ],
      "execution_count": null,
      "outputs": []
    },
    {
      "cell_type": "code",
      "metadata": {
        "id": "vn5brjKWhGYe"
      },
      "source": [
        "# Crea un obxecto kml ao que se engadirán todos os puntos, polígonos etc\n",
        "kml=simplekml.Kml()"
      ],
      "execution_count": null,
      "outputs": []
    },
    {
      "cell_type": "code",
      "metadata": {
        "id": "6TtHmbPnTEpW"
      },
      "source": [
        "# Configuración da transformación de coordenadas\n",
        "transformer = Transformer.from_crs(crs_orixe,crs_destino,always_xy=True)"
      ],
      "execution_count": null,
      "outputs": []
    },
    {
      "cell_type": "code",
      "metadata": {
        "id": "7HzL3KXMhYJt"
      },
      "source": [
        "# Aeroxeneradores\n",
        "if not df_aeroxeradores.empty:\n",
        "  for index, row in df_aeroxeradores.iterrows():\n",
        "    modelLink = simplekml.Link(href = \"untitled.dae\")\n",
        "    coordsSet = transformer.transform(row['x'],row['y'])\n",
        "    coords = simplekml.Location(longitude=coordsSet[0], latitude=coordsSet[1], altitude=0)\n",
        "    model = kml.newmodel(name=row['id'],description='aeroxenerador',altitudemode='relativeToGround', location=coords, link=modelLink)\n",
        "    model.style.iconstyle.icon.href = \"molino.png\" # icono para gmaps"
      ],
      "execution_count": null,
      "outputs": []
    },
    {
      "cell_type": "code",
      "metadata": {
        "id": "K6eu2qAg-k00"
      },
      "source": [
        "# LAAT\n",
        "if not df_LAAT.empty:\n",
        "  lista_coords = []\n",
        "  for index, row in df_LAAT.iterrows():\n",
        "    coords = transformer.transform(row['x'],row['y'])\n",
        "    lista_coords.append(coords)\n",
        "\n",
        "    punto = kml.newpoint(name=row['id'])\n",
        "    punto.coords = [coords]\n",
        "    punto.style.iconstyle.scale = 0.7\n",
        "    punto.style.iconstyle.icon.href = \"laat.png\"\n",
        "\n",
        "  linea = kml.newlinestring(name=\"LAAT\", description=\"Linea Aerea Alta Tensión\", coords=lista_coords)\n",
        "  linea.style.linestyle.color = simplekml.Color.rgb(2,136,209)\n",
        "  linea.style.linestyle.width= 5  # 5 pixels"
      ],
      "execution_count": null,
      "outputs": []
    },
    {
      "cell_type": "code",
      "metadata": {
        "id": "cdyWDuAFWmGZ"
      },
      "source": [
        "# LAAT_2\n",
        "if not df_LAAT_2.empty:\n",
        "  lista_coords = []\n",
        "  for index, row in df_LAAT_2.iterrows():\n",
        "    coords = transformer.transform(row['x'],row['y'])\n",
        "    lista_coords.append(coords)\n",
        "\n",
        "    punto = kml.newpoint(name=row['id'])\n",
        "    punto.coords = [coords]\n",
        "    punto.style.iconstyle.scale = 0.7\n",
        "    punto.style.iconstyle.icon.href = \"laat.png\"\n",
        "\n",
        "  linea = kml.newlinestring(name=\"LAAT\", description=\"Linea Aerea Alta Tensión\", coords=lista_coords)\n",
        "  linea.style.linestyle.color = simplekml.Color.rgb(2,136,209)\n",
        "  linea.style.linestyle.width= 5  # 5 pixels"
      ],
      "execution_count": null,
      "outputs": []
    },
    {
      "cell_type": "code",
      "metadata": {
        "id": "EOJWXRnEDrek"
      },
      "source": [
        "# Torres meteorolóxicas\n",
        "if not df_meteotorres.empty:\n",
        "  for index, row in df_meteotorres.iterrows():\n",
        "    punto = kml.newpoint(name=row['id'], coords=[transformer.transform(row['x'],row['y'])])\n",
        "    punto.style.iconstyle.scale = 0.8  # Icon thrice as big\n",
        "    punto.style.iconstyle.icon.href = \"torremet.png\""
      ],
      "execution_count": null,
      "outputs": []
    },
    {
      "cell_type": "code",
      "metadata": {
        "id": "CrM6Eiq_EL-j"
      },
      "source": [
        "# Poligonal\n",
        "if not df_poligonal.empty:\n",
        "  lista_coords = []\n",
        "  for index, row in df_poligonal.iterrows():\n",
        "    coords = transformer.transform(row['x'],row['y'])\n",
        "    lista_coords.append(coords)\n",
        "  lista_coords.append(lista_coords[0])\n",
        "\n",
        "  poligono = kml.newpolygon(name=\"Poligonal\")\n",
        "  poligono.outerboundaryis = lista_coords\n",
        "  poligono.style.linestyle.color = simplekml.Color.rgb(255,82,82)\n",
        "  poligono.style.linestyle.width = 1\n",
        "  poligono.style.polystyle.color = simplekml.Color.changealphaint(50, simplekml.Color.rgb(255,82,82))"
      ],
      "execution_count": null,
      "outputs": []
    },
    {
      "cell_type": "code",
      "metadata": {
        "id": "M5npOWFHQ4He"
      },
      "source": [
        "# Poligonal Subestación\n",
        "if not df_subestacion.empty:\n",
        "  lista_coords = []\n",
        "  for index, row in df_subestacion.iterrows():\n",
        "    coords = transformer.transform(row['x'],row['y'])\n",
        "    lista_coords.append(coords)\n",
        "  lista_coords.append(lista_coords[0])\n",
        "\n",
        "  poligono = kml.newpolygon(name=\"Poligonal Subestación\")\n",
        "  poligono.outerboundaryis = lista_coords\n",
        "  poligono.style.linestyle.color = simplekml.Color.rgb(255,234,0)\n",
        "  poligono.style.linestyle.width = 1\n",
        "  poligono.style.polystyle.color = simplekml.Color.changealphaint(50, simplekml.Color.rgb(255,234,0))"
      ],
      "execution_count": null,
      "outputs": []
    },
    {
      "cell_type": "code",
      "metadata": {
        "id": "WBJXwwv4RNNg"
      },
      "source": [
        "# Centro de seccionamento\n",
        "if not df_seccionamento.empty:\n",
        "  for index, row in df_seccionamento.iterrows():\n",
        "    punto = kml.newpoint(name=row['id'], coords=[transformer.transform(row['x'],row['y'])])\n",
        "    punto.style.iconstyle.scale = 0.8  # Icon thrice as big\n",
        "    punto.style.iconstyle.icon.href = \"sub.png\"    "
      ],
      "execution_count": null,
      "outputs": []
    },
    {
      "cell_type": "code",
      "metadata": {
        "id": "G1xzky03RmmA"
      },
      "source": [
        "# Outros marcadores\n",
        "if not df_outros.empty:\n",
        "  for index, row in df_outros.iterrows():\n",
        "    punto = kml.newpoint(name=row['id'], coords=[transformer.transform(row['x'],row['y'])])\n",
        "    punto.style.iconstyle.scale = 0.8  # Icon thrice as big\n",
        "    punto.style.iconstyle.icon.href = \"sub.png\""
      ],
      "execution_count": null,
      "outputs": []
    },
    {
      "cell_type": "code",
      "metadata": {
        "id": "G24gVqd-iniS",
        "colab": {
          "base_uri": "https://localhost:8080/"
        },
        "outputId": "5a134da7-98c8-4a65-be85-ef6fbb521b3c"
      },
      "source": [
        "## Escritura dos ficheiros en disco\n",
        "# Crea o ficheiro temporal doc.kml cos datos creados en apartados anteriores\n",
        "# Crea un ficheiro kmz que contén o ficheiro doc.kml mais os ficheiros de imaxe\n",
        "\n",
        "# Os ficheiros coas imaxes e obxectos 3D deben estar na mesma carpeta que a\n",
        "# a folla de cálculo.\n",
        "\n",
        "!pip install zipp\n",
        "from zipfile import ZipFile\n",
        "import os\n",
        "\n",
        "os.chdir('/content/'+carpeta)\n",
        "\n",
        "kml.save('doc.kml')\n",
        "\n",
        "novo_ficheiro = nome_ficheiro[0:nome_ficheiro.rindex('.')]+\".kmz\"\n",
        "\n",
        "zipObj = ZipFile(novo_ficheiro, 'w')\n",
        "zipObj.write('doc.kml')\n",
        "\n",
        "zipObj.write('molino.png')\n",
        "zipObj.write('torremet.png')\n",
        "zipObj.write('laat.png')\n",
        "zipObj.write('untitled.dae')\n",
        "zipObj.write('sub.png')\n",
        "\n",
        "zipObj.close()\n",
        "os.remove('doc.kml')"
      ],
      "execution_count": null,
      "outputs": [
        {
          "output_type": "stream",
          "name": "stdout",
          "text": [
            "Requirement already satisfied: zipp in /usr/local/lib/python3.7/dist-packages (3.6.0)\n"
          ]
        }
      ]
    },
    {
      "cell_type": "markdown",
      "metadata": {
        "id": "K1d3VH0gC4iE"
      },
      "source": [
        ""
      ]
    }
  ]
}